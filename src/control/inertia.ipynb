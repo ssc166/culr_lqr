{
 "cells": [
  {
   "cell_type": "code",
   "execution_count": 3,
   "metadata": {},
   "outputs": [],
   "source": [
    "import sympy as sp\n",
    "import numpy as np\n",
    "from sympy.physics.vector import dynamicsymbols\n",
    "from sympy.physics.vector import time_derivative\n",
    "from sympy.physics.vector import ReferenceFrame\n",
    "N = ReferenceFrame('N')\n",
    "import pylab as pl\n",
    "import control\n",
    "from EoM import *\n",
    "from sympy.physics.mechanics import *\n",
    "from numpy.linalg import matrix_rank, eig\n",
    "import math\n",
    "import intelligent_robotics as ir\n",
    "import numpy as np\n",
    "from scipy.integrate import odeint\n",
    "import matplotlib.pyplot as plt\n",
    "import WIP_utils as utils\n",
    "import modern_robotics as mr\n",
    "import time as t\n",
    "import Cal_joint as cj\n",
    "import state_equation_pitch as sep\n"
   ]
  },
  {
   "cell_type": "code",
   "execution_count": 4,
   "metadata": {},
   "outputs": [
    {
     "data": {
      "text/plain": [
       "0.6908134843002635"
      ]
     },
     "execution_count": 4,
     "metadata": {},
     "output_type": "execute_result"
    }
   ],
   "source": [
    "# roll_inertia\n",
    "\n",
    "I_w = 0.002997277\n",
    "I_1 = 0.00613516\n",
    "I_2 =0.010192583\n",
    "I_3 =0.008595913\n",
    "I_4 =0.306643651\n",
    "\n",
    "m_w = 2.292\n",
    "m1 = 2.486\n",
    "m2 = 1.416\n",
    "m3 = 1.739\n",
    "m4 = 16.09\n",
    "\n",
    "q2 = -0.490655767230835\n",
    "q3 = 1.05866060527226\n",
    "q4 = -0.568004838041421\n",
    "\n",
    "theta_2 = np.pi/2 + q2\n",
    "theta_3 = np.pi/2 + q2 + q3\n",
    "theta_4 = np.pi/2 + q2 + q3 + q4\n",
    "\n",
    "r = 0.069\n",
    "L1 = 0.171\n",
    "L2 = 0.28\n",
    "L3 = 0.28\n",
    "L4 = 0.346\n",
    "\n",
    "L1c = L1\n",
    "L2c = L2 - 0.045289\n",
    "L3c = L3 - 0.18878\n",
    "L4c = 0.17188\n",
    "\n",
    "z_1c = r + L1c\n",
    "z_2c = r + L1 + L2c * np.sin(float(theta_2))\n",
    "z_3c = r + L1 + L2 * np.sin(float(theta_2)) + L3c*np.sin(float(theta_3))\n",
    "z_4c = r + L1 + L2 * np.sin(float(theta_2)) + L3 * np.sin(float(theta_3)) + L4c * np.sin(float(theta_4))\n",
    "\n",
    "z_com = (m_w*r + m1*L1c + m2*z_2c + m3*z_3c + m4*z_4c) / (m_w + m1+m2 + m3 + m4)\n",
    "z_com"
   ]
  },
  {
   "cell_type": "code",
   "execution_count": 5,
   "metadata": {},
   "outputs": [
    {
     "data": {
      "text/plain": [
       "24.023"
      ]
     },
     "execution_count": 5,
     "metadata": {},
     "output_type": "execute_result"
    }
   ],
   "source": [
    "m_w + m1+m2 + m3 + m4"
   ]
  },
  {
   "cell_type": "code",
   "execution_count": 6,
   "metadata": {},
   "outputs": [
    {
     "data": {
      "text/plain": [
       "2.5082321733657604"
      ]
     },
     "execution_count": 6,
     "metadata": {},
     "output_type": "execute_result"
    }
   ],
   "source": [
    "I_bx =  I_w + I_1 + I_2 + I_3 + I_4 +  m_w*(z_com - r)**2 + m1*(z_com-z_1c)**2 +  m2*(z_com-z_2c)**2 +   m3*(z_com-z_3c)**2 +  m4*(z_com-z_4c)**2\n",
    "I_bx"
   ]
  },
  {
   "cell_type": "code",
   "execution_count": 5,
   "metadata": {},
   "outputs": [
    {
     "data": {
      "text/plain": [
       "1.5684639621472638"
      ]
     },
     "execution_count": 5,
     "metadata": {},
     "output_type": "execute_result"
    }
   ],
   "source": [
    "I_1 = 0.00614941\n",
    "I_2 =0.009599672\n",
    "I_3 =0.007917693\n",
    "I_4 =0.257336003\n",
    "\n",
    "I_by =  I_1 + I_2 + I_3 + I_4 + m1*(z_com-z_1c)**2 +  m2*(z_com-z_2c)**2 +   m3*(z_com-z_3c)**2 +  m4*(z_com-z_4c)**2\n",
    "I_by"
   ]
  },
  {
   "cell_type": "code",
   "execution_count": 6,
   "metadata": {},
   "outputs": [
    {
     "data": {
      "text/plain": [
       "0.7563970518312654"
      ]
     },
     "execution_count": 6,
     "metadata": {},
     "output_type": "execute_result"
    }
   ],
   "source": [
    "z_com = (m1*L1c + m2*z_2c + m3*z_3c + m4*z_4c) / (m1+m2 + m3 + m4)\n",
    "z_com"
   ]
  },
  {
   "cell_type": "code",
   "execution_count": null,
   "metadata": {},
   "outputs": [],
   "source": []
  }
 ],
 "metadata": {
  "kernelspec": {
   "display_name": "Python 3.7.11 ('py37')",
   "language": "python",
   "name": "python3"
  },
  "language_info": {
   "codemirror_mode": {
    "name": "ipython",
    "version": 3
   },
   "file_extension": ".py",
   "mimetype": "text/x-python",
   "name": "python",
   "nbconvert_exporter": "python",
   "pygments_lexer": "ipython3",
   "version": "3.7.11"
  },
  "vscode": {
   "interpreter": {
    "hash": "f2376f10e5480d9dd8a0eeeaa81051e72d24d2357c52529331f089560bf138e7"
   }
  }
 },
 "nbformat": 4,
 "nbformat_minor": 4
}
